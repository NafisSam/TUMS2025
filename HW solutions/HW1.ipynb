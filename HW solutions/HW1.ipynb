{
 "cells": [
  {
   "cell_type": "markdown",
   "id": "6e24b7e3-cede-4b87-9e5e-7a3ea0dfa009",
   "metadata": {},
   "source": [
    "Problem 1: String Manipulations and Formatting"
   ]
  },
  {
   "cell_type": "code",
   "execution_count": 11,
   "id": "3a74d5c9-8952-4956-82e2-35aa9b43d0ff",
   "metadata": {},
   "outputs": [
    {
     "name": "stdout",
     "output_type": "stream",
     "text": [
      "doe, JOHN\n"
     ]
    }
   ],
   "source": [
    "first = \"John\"\n",
    "last= \"DOE\"\n",
    "\n",
    "first = first.upper()\n",
    "last = last.lower()\n",
    "\n",
    "print(last + \",\", first)"
   ]
  },
  {
   "cell_type": "markdown",
   "id": "79adb0b6-091a-44f8-9c0c-66b0b5fbafcc",
   "metadata": {},
   "source": [
    "Problem 2: Arithmetic Operations and Input"
   ]
  },
  {
   "cell_type": "code",
   "execution_count": 39,
   "id": "ee5b050f-b5d4-4bcd-9485-6fc742f13469",
   "metadata": {},
   "outputs": [
    {
     "name": "stdin",
     "output_type": "stream",
     "text": [
      "Enter first number: 2\n",
      "Enter second number: 3\n"
     ]
    },
    {
     "name": "stdout",
     "output_type": "stream",
     "text": [
      "Sum: 5\n",
      "prod: 6\n",
      "Division: 0.67\n"
     ]
    }
   ],
   "source": [
    "x = int(input(\"Enter first number:\"))\n",
    "y = int(input(\"Enter second number:\"))\n",
    "\n",
    "sum = x + y\n",
    "prod  = x*y\n",
    "div = x/y\n",
    "\n",
    "print(\"Sum:\", sum)\n",
    "print(\"prod:\", prod)\n",
    "print(\"Division:\", round(div, 2))"
   ]
  },
  {
   "cell_type": "markdown",
   "id": "93b580ff-0d99-48ea-8d8f-9bcdb256ccee",
   "metadata": {},
   "source": [
    "Problem 3: Counting and String Analysis"
   ]
  },
  {
   "cell_type": "code",
   "execution_count": 66,
   "id": "952bba85-6666-478d-8220-bab600e01850",
   "metadata": {},
   "outputs": [
    {
     "name": "stdin",
     "output_type": "stream",
     "text": [
      "Say somthing: hello world\n"
     ]
    },
    {
     "name": "stdout",
     "output_type": "stream",
     "text": [
      "vowels: 3\n",
      "Uppercase: HELLO WORLD\n",
      "Modified String: HELLO-WORLD\n"
     ]
    }
   ],
   "source": [
    "txt = input(\"Say somthing:\")\n",
    "txtup = txt.upper()\n",
    "vowels = txtup.count(\"A\")+txtup.count(\"E\")+txtup.count(\"U\")+txtup.count(\"I\")+txtup.count(\"O\")\n",
    "\n",
    "print(\"vowels:\", vowels)\n",
    "print(\"Uppercase:\", txtup)\n",
    "print(\"Modified String:\", txtup.replace(\" \",\"-\"))"
   ]
  },
  {
   "cell_type": "markdown",
   "id": "39e99144-a59b-44f4-a594-ebbc37c84927",
   "metadata": {},
   "source": [
    "Problem 4: Palindrome Checker"
   ]
  },
  {
   "cell_type": "code",
   "execution_count": 93,
   "id": "56795cd0-59c0-4d76-80cc-92d4db73909c",
   "metadata": {},
   "outputs": [
    {
     "name": "stdin",
     "output_type": "stream",
     "text": [
      "Say something: Racecar\n"
     ]
    },
    {
     "name": "stdout",
     "output_type": "stream",
     "text": [
      "Palindrome!\n"
     ]
    }
   ],
   "source": [
    "txt = input(\"Say something:\").lower()\n",
    "\n",
    "txtrev = \"\"\n",
    "for i in txt:\n",
    "    txtrev = i + txtrev\n",
    "\n",
    "if txt == txtrev:\n",
    "    print(\"Palindrome!\")\n",
    "else:\n",
    "    print(\"Not a palindrome\")"
   ]
  },
  {
   "cell_type": "markdown",
   "id": "e968e087-ea40-435a-aba1-08b11e374a14",
   "metadata": {},
   "source": [
    "Problem 5: Advanced String Formatting"
   ]
  },
  {
   "cell_type": "code",
   "execution_count": null,
   "id": "3f6a7497-5631-467b-aeb5-5559b87ad49f",
   "metadata": {},
   "outputs": [],
   "source": [
    "txt = input(\"Say something:\")\n",
    "txt = txt.title()\n",
    "print('{:*^50}'.format(txt))"
   ]
  },
  {
   "cell_type": "code",
   "execution_count": null,
   "id": "7d9b1f77-db57-4e18-85db-c56d92d0f2f1",
   "metadata": {},
   "outputs": [],
   "source": []
  }
 ],
 "metadata": {
  "kernelspec": {
   "display_name": "Python 3 (ipykernel)",
   "language": "python",
   "name": "python3"
  },
  "language_info": {
   "codemirror_mode": {
    "name": "ipython",
    "version": 3
   },
   "file_extension": ".py",
   "mimetype": "text/x-python",
   "name": "python",
   "nbconvert_exporter": "python",
   "pygments_lexer": "ipython3",
   "version": "3.11.7"
  }
 },
 "nbformat": 4,
 "nbformat_minor": 5
}
