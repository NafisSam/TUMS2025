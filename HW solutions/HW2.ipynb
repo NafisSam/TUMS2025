{
 "cells": [
  {
   "cell_type": "markdown",
   "id": "153a3667-7082-4691-ab44-7fa46e08d083",
   "metadata": {},
   "source": [
    "Problem 1: Counting Nucleotides"
   ]
  },
  {
   "cell_type": "code",
   "execution_count": 75,
   "id": "4cc53568-951e-446c-8121-02c66281bc56",
   "metadata": {},
   "outputs": [
    {
     "name": "stdout",
     "output_type": "stream",
     "text": [
      "A: 2\n",
      "T: 2\n",
      "G: 3\n",
      "C: 2\n"
     ]
    }
   ],
   "source": [
    "DNA = \"ATGCGCATG\"\n",
    "A_count = 0\n",
    "T_count = 0\n",
    "G_count = 0\n",
    "C_count = 0\n",
    "for i in DNA:\n",
    "    if i == \"A\":\n",
    "        A_count += 1\n",
    "    elif i == \"G\":\n",
    "        G_count += 1\n",
    "    elif i == \"T\":\n",
    "        T_count += 1\n",
    "    elif i == \"C\":\n",
    "        C_count += 1\n",
    "\n",
    "##alternative approach\n",
    "##A_count = DNA.count(\"A\"))\n",
    "##T_count = DNA.count(\"T\"))\n",
    "##G_count = DNA.count(\"G\"))\n",
    "##C_count = DNA.count(\"C\"))\n",
    "\n",
    "print(\"A:\", A_count)\n",
    "print(\"T:\", T_count)\n",
    "print(\"G:\", G_count)\n",
    "print(\"C:\", C_count)\n",
    "\n"
   ]
  },
  {
   "cell_type": "markdown",
   "id": "8f22d81b-3778-4163-b3a1-8d62f0b0f451",
   "metadata": {},
   "source": [
    "Problem 2: Transcribing DNA to RNA"
   ]
  },
  {
   "cell_type": "code",
   "execution_count": 78,
   "id": "9157e179-0966-488f-a41c-32640a604c5f",
   "metadata": {},
   "outputs": [
    {
     "name": "stdout",
     "output_type": "stream",
     "text": [
      "AUGCGCAUG\n"
     ]
    }
   ],
   "source": [
    "RNA = \"\"\n",
    "for i in DNA:\n",
    "    if i == \"T\":\n",
    "        RNA = RNA + \"U\"\n",
    "    else:\n",
    "        RNA = RNA  + i\n",
    "\n",
    "##alternative approach\n",
    "##RNA = DNA.replace(\"T\" , \"U\")\n",
    "\n",
    "print(RNA)"
   ]
  },
  {
   "cell_type": "markdown",
   "id": "266cba43-d980-44cd-a31d-54fab0a2dd1b",
   "metadata": {},
   "source": [
    "Problem 3: Complementary Strand"
   ]
  },
  {
   "cell_type": "code",
   "execution_count": 81,
   "id": "3299976b-0786-40bc-b30a-5c2008c35bb2",
   "metadata": {},
   "outputs": [
    {
     "name": "stdout",
     "output_type": "stream",
     "text": [
      "TACGCGTAC\n"
     ]
    }
   ],
   "source": [
    "comp = \"\"\n",
    "for i in DNA:\n",
    "    if i == \"A\":\n",
    "        comp = comp + \"T\"\n",
    "    elif i == \"G\":\n",
    "        comp = comp + \"C\"\n",
    "    elif i == \"T\":\n",
    "        comp = comp + \"A\"\n",
    "    elif i == \"C\":\n",
    "        comp = comp + \"G\"\n",
    "\n",
    "##alternative approach\n",
    "##same as problem 2 but for each nucleotide\n",
    "\n",
    "print(comp)"
   ]
  },
  {
   "cell_type": "markdown",
   "id": "7cc788f1-58c4-42ff-9dbf-3e498b4336fa",
   "metadata": {},
   "source": [
    "Problem 4: GC Content Calculator"
   ]
  },
  {
   "cell_type": "code",
   "execution_count": 84,
   "id": "88849e77-b6c1-4bb1-9999-790b4bb4d65c",
   "metadata": {},
   "outputs": [
    {
     "name": "stdout",
     "output_type": "stream",
     "text": [
      "55.56\n"
     ]
    }
   ],
   "source": [
    "GC_count = ((G_count+C_count) / len(DNA)) * 100\n",
    "print(round(GC_count,2))"
   ]
  },
  {
   "cell_type": "raw",
   "id": "a172cb5c-38ce-454f-8798-770b401d1efc",
   "metadata": {},
   "source": [
    "Problem 5: Reverse a DNA Sequence"
   ]
  },
  {
   "cell_type": "code",
   "execution_count": 86,
   "id": "133d9109-4bd4-425a-ba7d-4269afd56ae8",
   "metadata": {},
   "outputs": [
    {
     "data": {
      "text/plain": [
       "'GTACGCGTA'"
      ]
     },
     "execution_count": 86,
     "metadata": {},
     "output_type": "execute_result"
    }
   ],
   "source": [
    "rev = \"\"\n",
    "for i in DNA:\n",
    "    rev = i + rev\n",
    "\n",
    "rev"
   ]
  },
  {
   "cell_type": "code",
   "execution_count": null,
   "id": "71c09140-1428-4614-bd3d-9c488774292f",
   "metadata": {},
   "outputs": [],
   "source": []
  },
  {
   "cell_type": "markdown",
   "id": "034737e2-de03-4dbe-9234-ef94e5743501",
   "metadata": {},
   "source": []
  }
 ],
 "metadata": {
  "kernelspec": {
   "display_name": "Python 3 (ipykernel)",
   "language": "python",
   "name": "python3"
  },
  "language_info": {
   "codemirror_mode": {
    "name": "ipython",
    "version": 3
   },
   "file_extension": ".py",
   "mimetype": "text/x-python",
   "name": "python",
   "nbconvert_exporter": "python",
   "pygments_lexer": "ipython3",
   "version": "3.11.7"
  }
 },
 "nbformat": 4,
 "nbformat_minor": 5
}
