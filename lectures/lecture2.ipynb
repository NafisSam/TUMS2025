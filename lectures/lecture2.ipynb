{
 "cells": [
  {
   "cell_type": "markdown",
   "id": "cf6b8f9b-7612-4067-9a45-2169944a70be",
   "metadata": {},
   "source": [
    "# Lecture 2 - Introduction to Python (part II)\n",
    "\n",
    "\n",
    "\n"
   ]
  }
 ],
 "metadata": {
  "kernelspec": {
   "display_name": "Python (anaconda_env)",
   "language": "python",
   "name": "anaconda_env"
  },
  "language_info": {
   "codemirror_mode": {
    "name": "ipython",
    "version": 3
   },
   "file_extension": ".py",
   "mimetype": "text/x-python",
   "name": "python",
   "nbconvert_exporter": "python",
   "pygments_lexer": "ipython3",
   "version": "3.10.8"
  }
 },
 "nbformat": 4,
 "nbformat_minor": 5
}
